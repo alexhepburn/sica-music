{
 "cells": [
  {
   "cell_type": "code",
   "execution_count": 2,
   "metadata": {},
   "outputs": [
    {
     "name": "stderr",
     "output_type": "stream",
     "text": [
      "C:\\ProgramData\\Anaconda3\\lib\\site-packages\\ipykernel_launcher.py:7: ParserWarning: Falling back to the 'python' engine because the 'c' engine does not support regex separators (separators > 1 char and different from '\\s+' are interpreted as regex); you can avoid this warning by specifying engine='python'.\n",
      "  import sys\n"
     ]
    }
   ],
   "source": [
    "import pandas as pd\n",
    "import numpy as np \n",
    "import pickle\n",
    "\n",
    "df = pd.read_csv('./data/train_triplets.txt', sep='\\t', names=['user', 'song', 'plays'])\n",
    "df2 = pd.read_csv('./data/msd-topMAGD-genreAssignment.cls', sep='\\t', names=['track', 'genre'])\n",
    "df3 = pd.read_csv('./data/unique_tracks.txt', sep='<SEP>', names=['track', 'song', 'artist', 'album'])"
   ]
  },
  {
   "cell_type": "code",
   "execution_count": 3,
   "metadata": {},
   "outputs": [
    {
     "name": "stdout",
     "output_type": "stream",
     "text": [
      "                                       user                song  plays\n",
      "0  b80344d063b5ccb3212f76538f3d9e43d87dca9e  SOAKIMP12A8C130995      1\n",
      "1  b80344d063b5ccb3212f76538f3d9e43d87dca9e  SOAPDEY12A81C210A9      1\n",
      "2  b80344d063b5ccb3212f76538f3d9e43d87dca9e  SOBBMDR12A8C13253B      2\n",
      "3  b80344d063b5ccb3212f76538f3d9e43d87dca9e  SOBFNSP12AF72A0E22      1\n",
      "4  b80344d063b5ccb3212f76538f3d9e43d87dca9e  SOBFOVM12A58A7D494      1\n",
      "                track     genre\n",
      "0  TRAAAAK128F9318786  Pop_Rock\n",
      "1  TRAAAAV128F421A322  Pop_Rock\n",
      "2  TRAAAAW128F429D538       Rap\n",
      "3  TRAAABD128F429CF47  Pop_Rock\n",
      "4  TRAAACV128F423E09E  Pop_Rock\n",
      "                track                song            artist              album\n",
      "0  TRMMMYQ128F932D901  SOQMMHC12AB0180CB8  Faster Pussy cat       Silent Night\n",
      "1  TRMMMKD128F425225D  SOVFVAK12A8C1350D9  Karkkiautomaatti        Tanssi vaan\n",
      "2  TRMMMRX128F93187D9  SOGTUKN12AB017F4F1    Hudson Mohawke  No One Could Ever\n",
      "3  TRMMMCH128F425532C  SOBNYVR12A8C13558C       Yerba Brava     Si Vos QuerÃ©s\n",
      "4  TRMMMWA128F426B589  SOHSBXH12A8C13B0DF        Der Mystic   Tangle Of Aspens\n"
     ]
    }
   ],
   "source": [
    "print(df.head())\n",
    "print(df2.head())\n",
    "print(df3.head())"
   ]
  },
  {
   "cell_type": "code",
   "execution_count": 4,
   "metadata": {
    "scrolled": true
   },
   "outputs": [
    {
     "name": "stdout",
     "output_type": "stream",
     "text": [
      "                                       user                song  plays  \\\n",
      "0  b80344d063b5ccb3212f76538f3d9e43d87dca9e  SOBFNSP12AF72A0E22      1   \n",
      "1  0f7d7d02867e87f47701c70ceb6b994c11b4db85  SOBFNSP12AF72A0E22      1   \n",
      "2  f926327f2c99580a4aa414d1cfc0439f45a929bf  SOBFNSP12AF72A0E22      5   \n",
      "3  85812d920b63e8a278f79f4c68cb89f4960efa75  SOBFNSP12AF72A0E22      1   \n",
      "4  591e295328be6bfb1f8ba124aaca0b7a85347d66  SOBFNSP12AF72A0E22     10   \n",
      "\n",
      "                track      artist                  album     genre  \n",
      "0  TRYQMNI128F147C1C7  Josh Rouse  Under Cold Blue Stars  Pop_Rock  \n",
      "1  TRYQMNI128F147C1C7  Josh Rouse  Under Cold Blue Stars  Pop_Rock  \n",
      "2  TRYQMNI128F147C1C7  Josh Rouse  Under Cold Blue Stars  Pop_Rock  \n",
      "3  TRYQMNI128F147C1C7  Josh Rouse  Under Cold Blue Stars  Pop_Rock  \n",
      "4  TRYQMNI128F147C1C7  Josh Rouse  Under Cold Blue Stars  Pop_Rock  \n"
     ]
    }
   ],
   "source": [
    "dftemp = df.merge(df3, on='song', how='left')\n",
    "dftemp2 = dftemp.merge(df2, on='track')\n",
    "print(dftemp2.head())"
   ]
  },
  {
   "cell_type": "code",
   "execution_count": 5,
   "metadata": {},
   "outputs": [
    {
     "name": "stdout",
     "output_type": "stream",
     "text": [
      "user      0\n",
      "song      0\n",
      "plays     0\n",
      "track     0\n",
      "artist    0\n",
      "album     0\n",
      "genre     0\n",
      "dtype: int64\n"
     ]
    }
   ],
   "source": [
    "print(dftemp2.isnull().sum())"
   ]
  },
  {
   "cell_type": "code",
   "execution_count": 6,
   "metadata": {},
   "outputs": [
    {
     "name": "stdout",
     "output_type": "stream",
     "text": [
      "50689\n"
     ]
    }
   ],
   "source": [
    "df = dftemp2\n",
    "genre_dict = {}\n",
    "with open('./data/genre_dict.pickle', 'rb') as f:\n",
    "    genre_dict = pickle.load(f)\n",
    "# Take num_users of the most active users in the dataset\n",
    "num_users = 1000\n",
    "users = df.groupby('user').sum().sort_values('plays', ascending=False).head(num_users).reset_index().user\n",
    "df = df.loc[df['user'].isin(users)]\n",
    "print(len(list(df.track.unique())))\n",
    "df.to_hdf('./data/listens_with_genres', 'df')"
   ]
  },
  {
   "cell_type": "code",
   "execution_count": 7,
   "metadata": {},
   "outputs": [],
   "source": [
    "piv = pd.pivot_table(df, index='user', columns='song', values='plays', fill_value=0)\n",
    "genres = [genre_dict[x] for x in list(piv.columns)]"
   ]
  },
  {
   "cell_type": "code",
   "execution_count": 8,
   "metadata": {},
   "outputs": [
    {
     "name": "stdout",
     "output_type": "stream",
     "text": [
      "['Pop_Rock', 'Rap', 'Pop_Rock', 'Rap', 'Pop_Rock', 'Pop_Rock', 'Rap', 'Pop_Rock', 'Pop_Rock', 'Jazz', 'Pop_Rock', 'Pop_Rock', 'Electronic', 'Pop_Rock', 'Pop_Rock', 'Pop_Rock', 'Pop_Rock', 'Pop_Rock', 'Rap', 'Electronic', 'Pop_Rock', 'Jazz', 'Pop_Rock', 'Pop_Rock', 'Pop_Rock', 'RnB', 'Pop_Rock', 'Pop_Rock', 'Rap', 'Pop_Rock', 'RnB', 'Jazz', 'Pop_Rock', 'Pop_Rock', 'Folk', 'Pop_Rock', 'Pop_Rock', 'Country', 'Pop_Rock', 'Electronic', 'Pop_Rock', 'Pop_Rock', 'Pop_Rock', 'Electronic', 'Electronic', 'Pop_Rock', 'Electronic', 'Pop_Rock', 'Pop_Rock', 'Pop_Rock', 'Pop_Rock', 'Electronic', 'RnB', 'Pop_Rock', 'Latin', 'Vocal', 'Pop_Rock', 'Pop_Rock', 'Pop_Rock', 'RnB', 'Pop_Rock', 'Electronic', 'Pop_Rock', 'Pop_Rock', 'Electronic', 'Pop_Rock', 'Rap', 'Electronic', 'Pop_Rock', 'Pop_Rock', 'Pop_Rock', 'Rap', 'Pop_Rock', 'Pop_Rock', 'Pop_Rock', 'Pop_Rock', 'Jazz', 'Pop_Rock', 'Pop_Rock', 'Pop_Rock', 'Pop_Rock', 'Country', 'Pop_Rock', 'Pop_Rock', 'Rap', 'Pop_Rock', 'Pop_Rock', 'Pop_Rock', 'Electronic', 'Pop_Rock', 'Pop_Rock', 'Pop_Rock', 'Electronic', 'Pop_Rock', 'Pop_Rock', 'Pop_Rock', 'Pop_Rock', 'Rap', 'Pop_Rock', 'Pop_Rock']\n"
     ]
    }
   ],
   "source": [
    "print(genres[0:100])"
   ]
  },
  {
   "cell_type": "code",
   "execution_count": 13,
   "metadata": {
    "collapsed": true
   },
   "outputs": [],
   "source": [
    "import pickle\n",
    "with open('./data/genre_list.pickle', 'wb') as f:\n",
    "    pickle.dump(genres, f)"
   ]
  }
 ],
 "metadata": {
  "kernelspec": {
   "display_name": "Python 3",
   "language": "python",
   "name": "python3"
  },
  "language_info": {
   "codemirror_mode": {
    "name": "ipython",
    "version": 3
   },
   "file_extension": ".py",
   "mimetype": "text/x-python",
   "name": "python",
   "nbconvert_exporter": "python",
   "pygments_lexer": "ipython3",
   "version": "3.7.2"
  }
 },
 "nbformat": 4,
 "nbformat_minor": 2
}
